{
 "cells": [
  {
   "cell_type": "markdown",
   "metadata": {},
   "source": [
    "- 이제 현재 보드(board)의 y행부터 나머지 행까지 새로운 퀸을 놓는 알고리즘을 순환으로 기술해 보자. 보드는 모두 0으로 초기화되어야 하고, 순환호출의 시작은 0번 행부터이어야 한다. 퀸을 놓으려는 위치가 유효하지 않으면 백트래킹 한다."
   ]
  },
  {
   "cell_type": "code",
   "execution_count": null,
   "metadata": {},
   "outputs": [],
   "source": [
    "def inSafe(board, x, y):    # 퀸 유효성 검사\n",
    "    N = len(board)\n",
    "\n",
    "    for i in range(y-1, -1, -1):\n",
    "        if board[i][x] == 1:\n",
    "            return False\n",
    "    for i, j in zip(range(y-1, -1, -1), range(x-1, -1, -1)):\n",
    "        if board[i][j] == 1:\n",
    "            return False\n",
    "    for i, j in zip(range(y-1, -1, -1), range(x+1, N)):\n",
    "        if board[i][j] == 1:\n",
    "            return False\n",
    "    return True\n",
    "\n",
    "# 현재 보드와 다음에 퀸을 놓을 행을 입력으로 받는다.\n",
    "def solve_N_Queen(board, y):\n",
    "    N = len(board)\n",
    "    # 만약, y == N이면 이미 모든 행을 채운 것이므로 하나의 해를 완성했다.\n",
    "    if y == N:    # 하나의 해 탐색 성공\n",
    "        printBoard(board)    # 화면에 출력\n",
    "        return    # 백트래킹\n",
    "    \n",
    "    # 그렇지 않으면 현재의 행에서 모든 칸을 검사한다.\n",
    "    for x in range(N):    # 현재 y에서 모든 x를 테스트함\n",
    "        # (x,y)에 퀸이 들어갈 수 있으면, 넣고, 다음 행(y)을 처리한 다음, 다음 칸(x)을 위해 다시 꺼냄. 한 행에는 하나의 퀸만 놓고 테스트함\n",
    "        if inSafe(board, x, y):    # (x,y)에 퀸이 들어갈 수 있으면\n",
    "            board[y][x] = 1    # 넣고\n",
    "            solve_N_Queen(board, y+1)    # 다음 행 처리: 상태공간트리 탐색\n",
    "            board[y][x] = 0    # 처리가 끝낫으니 다시 꺼냄"
   ]
  },
  {
   "cell_type": "code",
   "execution_count": 5,
   "metadata": {},
   "outputs": [
    {
     "name": "stdout",
     "output_type": "stream",
     "text": [
      ". Q . . \n",
      ". . . Q \n",
      "Q . . . \n",
      ". . Q . \n",
      "\n",
      ". . Q . \n",
      "Q . . . \n",
      ". . . Q \n",
      ". Q . . \n",
      "\n",
      "2\n"
     ]
    }
   ],
   "source": [
    "def inSafe(board, x, y):\n",
    "    N = len(board)\n",
    "\n",
    "    for i in range(N-1, -1, -1):\n",
    "        if board[i][x] == 1:\n",
    "            return False\n",
    "    for i, j in zip(range(y-1, -1, -1), range(x-1, -1, -1)):\n",
    "        if board[i][j] == 1:\n",
    "            return False\n",
    "    for i, j in zip(range(y-1, -1, -1), range(x+1, N)):\n",
    "        if board[i][j] == 1:\n",
    "            return False\n",
    "    return True\n",
    "\n",
    "def solve_N_Queen(board, y):\n",
    "    global result\n",
    "    if y == N:\n",
    "        printboard(board)\n",
    "        result += 1\n",
    "        return\n",
    "    \n",
    "    for x in range(N):\n",
    "        if inSafe(board, x, y):\n",
    "            board[y][x] = 1\n",
    "            solve_N_Queen(board, y+1)\n",
    "            board[y][x] = 0\n",
    "\n",
    "def printboard(board):\n",
    "    for i in range(len(board)):\n",
    "        for j in range(len(board)):\n",
    "            if board[i][j] == 1:\n",
    "                print('Q', end=' ')\n",
    "            else:\n",
    "                print('.', end=' ')\n",
    "        print()\n",
    "    print()\n",
    "\n",
    "N = 4\n",
    "result = 0\n",
    "board = [[0]*N for _ in range(N)]\n",
    "solve_N_Queen(board, 0)\n",
    "print(result)"
   ]
  }
 ],
 "metadata": {
  "kernelspec": {
   "display_name": "Python 3",
   "language": "python",
   "name": "python3"
  },
  "language_info": {
   "codemirror_mode": {
    "name": "ipython",
    "version": 3
   },
   "file_extension": ".py",
   "mimetype": "text/x-python",
   "name": "python",
   "nbconvert_exporter": "python",
   "pygments_lexer": "ipython3",
   "version": "3.9.13"
  }
 },
 "nbformat": 4,
 "nbformat_minor": 2
}
