{
 "cells": [
  {
   "cell_type": "markdown",
   "metadata": {},
   "source": [
    "# 합이 M인 모든 부분집합을 찾는 문제\n",
    "- 문제: 양수로 이루어진 집합 S와 어떤 수 M이 주어졌다. 이 S의 부분집합 중에 원소의 합이 M이 되는 모든 가능한 부분집합을 찾아라.\n",
    "    - 이 문제를 해결하기 위한 가장 간단한 방법은 집합 S의 모든 가능한 부분집합을 만들고 각 부분집합의 합을 구해 비교해보는 것이다. 어떤 집합의 모든 부분집합을 만드는 것은 **조합(combination) 생성** 문제인데, 원소의 개수가 n인 집합의 모든 부분집합의 개수는 모든 원소를 부분집합에 넣거나 뺄 수 있으므로 2^n가지이다. 이들 중에서 조건을 만족하는 경우를 모두 찾으면 된다."
   ]
  },
  {
   "cell_type": "markdown",
   "metadata": {},
   "source": [
    "# 백트래킹을 이용한 조건적 부분집합 생성\n",
    "- 백트래킹을 적용해 보자. 상태공간트리는 다음과 같다. 순열에서와는 달리 집합에서는 원소들 간에 순서의 개념이 없는 것에 유의하라. 따라서 부모 노드 이후의 인덱스에 대해서만 탐색하면 된다. 예를 들어, [2] 노드에서는 [2,1]이나 [2,2]는 탐색할 필요가 없고, [2,3]과 [2,4]만 탐색하면 되는 것이다. 이 문제에서 기본적인 백트래킹 조건은 다음과 같다."
   ]
  },
  {
   "cell_type": "markdown",
   "metadata": {},
   "source": [
    "- 노드(후보 해)의 원소의 합이 M인 경우: 하나의 해를 찾음. 백트래킹\n",
    "- 노드의 원소의 합이 M을 초과하는 경우: 서브 트리가 모두 M을 초과할 수 밖에 없으므로 더 이상 탐색할 필요가 없음. 백트래킹"
   ]
  },
  {
   "cell_type": "markdown",
   "metadata": {},
   "source": [
    "1. 레벨 1 : 루트 노드는 공백 집합이다. 이 노드에서 탐색이 시작된다.\n",
    "2. 레벨 2 : 루트 노드에서 부분집합의 원소로 각각 1, 2, 3, 4를 추가한 경우의 부분해를 나타낸다. 모두 아직 가능한 부분해이므로 탐색을 계속한다.\n",
    "3. 레벨 3 : [1]의 자식 노드인 [1, 2], [1, 3], [1,4]를 생성한다. [1, 2]와 [1,3]은 합이 아직 5보다 작으므로 계속 탐색해야 한다. [1,4]는 합이 5이므로 하나의 해를 찾은 것이고, 따라서 전체해에 추가하고 백트래킹한다.\n",
    "4. 레벨 4 : [1, 2]의 자식 노드인 [1, 2, 3], [1, 2, 4]는 모두 합이 5 초과이므로 백트래킹한다. [1, 3]의 자식 노드들도 마찬가지이다.\n",
    "\n",
    "- 이 문제에서 집합의 원소는 음수가 아니어야 한다는 조건이 있었던 것에 유의하라. 만약 이 문제에서 원소로 음수를 허용한다면 어떻게 될까? 현재 부분해의 합이 5를 초과한다고 하더라도 백트래킹 할 수 없다. 왜냐하면 다음의 숫자를 넣어 다시 5가 될 수 있기 때문이다."
   ]
  },
  {
   "cell_type": "markdown",
   "metadata": {},
   "source": [
    "# 알고리즘\n",
    "- 앞에서와 같이 순환호출을 이용해 백트래킹 알고리즘을 구성해 보자. 먼저 숫자 집합 S에서 원소의 합이 M인 모든 부분집합을 출력하려고 한다. 조금이라도 더 많은 가지치기를 위해 다음과 같은 추가적인 백트래킹 조건을 사용할 수 있다.\n",
    "    - remaining을 현재 해에 선택되지 않고 남은 집합 S의 모든 숫자들의 합이라고 하자. remaining과 현재 해의 합이 M보다 작으면 남은 숫자를 모두 해에 넣어도 M을 절대 만들 수 없다. 백트래킹한다.\n",
    "    - 맨 처음에는 remaining은 입력 집합 S의 모든 요소의 합인 sum(S)이어야 하고 index는 0, 현재 해 sol은 공집합이다. sum(S)은 리스트 S의 모든 항목의 합을 구하는 파이썬 함수이다."
   ]
  },
  {
   "cell_type": "code",
   "execution_count": null,
   "metadata": {},
   "outputs": [],
   "source": [
    "# 리스트로 주어지는 입력 S에서 합이 M인 모든 부분집합 찾기 함수이다.\n",
    "def all_sum_of_subsets(S, M):\n",
    "    # 순환 함수를 호출한다. 맨 처음에 레벨은 0(루트의 레벨을 0으로 가정), 부분집합은 공집합 [], 리스트에 남은 항목들의 합(sum(S))을 입력으로 전달한다.\n",
    "    DFS_sum_of_subsets(S, M, 0, [], sum(S))\n",
    "\n",
    "# 조건에 맞는 모든 조합 생성을 위한 순환 구조의 상태공간트리 탐색 함수이다. \n",
    "# level은 현재까지의 레벨을, sol은 현재의 부분집합, remaining은 S의 원소 중에서 sol에 포함되지 않은 남은 원소들의 합을 의미한다.\n",
    "def DFS_sum_of_subsets(S, M, level. sol, remaining):\n",
    "    # 하나의 해가 완성되었으면 출력하고 백트래킹 한다.\n",
    "    if sum(sol) == M:    # 하나의 해 완성\n",
    "        print(sol)    # 현재 해를 출력\n",
    "        return    # 백트래킹\n",
    "    # 부분해가 이미 M보다 크거나, 부분해에 S의 남은 원소를 다 더해도 M보다 작은 경우(추가적인 백트래킹 조건) 더 탐색할 필요가 없다. 따라서 백트래킹 한다.\n",
    "    if sum(sol)>M or (remaining - sum(sol))<M:\n",
    "        return    # 백트래킹\n",
    "    \n",
    "    # 그렇지 않다면, level 이후에의 모든 원소들에 대해(중복을 허용하지 않으므로 이전 원소들을 처리할 필요없음) 하나씩 부분해(sol)에 넣고 상태공간트리를 순환적으로 탐색해 본다.\n",
    "    # 순환호출에서 레벨이 1씩 증가되어야 하고, S에 남은 원소의 합이 갱신되어야 하는 것에 유의하라.\n",
    "    for i in range(level, len(S)):    # index 이후의 모든 숫자에 대해\n",
    "        sol.append(S[i])    # 현재 해 갱신\n",
    "        DFS_sum_of_subsets(S, M, i+1, sol, remaining-S[i])    # 순환\n",
    "        sol.pop()    # 현재 해 복구"
   ]
  },
  {
   "cell_type": "code",
   "execution_count": 4,
   "metadata": {},
   "outputs": [
    {
     "name": "stdout",
     "output_type": "stream",
     "text": [
      "[3, 4, 2]\n",
      "[4, 5]\n",
      "입력 집합: [3, 34, 4, 12, 5, 2] M= 9\n"
     ]
    }
   ],
   "source": [
    "def all_sum_of_subsets(arr, M):\n",
    "    DFS_sum_of_subsets(arr, M, 0, [], sum(arr))\n",
    "\n",
    "def DFS_sum_of_subsets(arr, M, level, sol, remaining):\n",
    "    if sum(sol) == M:\n",
    "        print(sol)\n",
    "        return\n",
    "    \n",
    "    if sum(sol)>M and (sum(sol)+remaining)<M:\n",
    "        return\n",
    "    \n",
    "    for i in range(level, len(arr)):\n",
    "        sol.append(arr[i])\n",
    "        DFS_sum_of_subsets(arr, M, i+1, sol, remaining-arr[i])\n",
    "        sol.pop()\n",
    "\n",
    "nums = [3, 34, 4, 12, 5, 2]\n",
    "M = 9\n",
    "solution = all_sum_of_subsets(nums, M)\n",
    "print(\"입력 집합:\", nums, \"M=\", M)"
   ]
  }
 ],
 "metadata": {
  "kernelspec": {
   "display_name": "Python 3",
   "language": "python",
   "name": "python3"
  },
  "language_info": {
   "codemirror_mode": {
    "name": "ipython",
    "version": 3
   },
   "file_extension": ".py",
   "mimetype": "text/x-python",
   "name": "python",
   "nbconvert_exporter": "python",
   "pygments_lexer": "ipython3",
   "version": "3.9.13"
  }
 },
 "nbformat": 4,
 "nbformat_minor": 2
}
