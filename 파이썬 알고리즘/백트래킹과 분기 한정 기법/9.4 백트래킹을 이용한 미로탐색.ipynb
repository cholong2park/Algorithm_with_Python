{
 "cells": [
  {
   "cell_type": "markdown",
   "metadata": {},
   "source": [
    "# 미로탐색 알고리즘\n",
    "- 이제 전체 미로탐색 알고리즘을 구성해 보자. 주 함수는 필요한 자료들을 초기화하고 순환호출을 시작하고, 순환호출 함수는 실제로 순환호출을 통해 상태공간트리를 탐색하도록 구성한다. 탐색이 성공하였을 때 최종적인 해 경로를 출력할 수 있도록 해 경로맵 sol을 추가하였다."
   ]
  },
  {
   "cell_type": "code",
   "execution_count": null,
   "metadata": {},
   "outputs": [],
   "source": [
    "# 미로맵 maze와 현재 위치 (x,y)를 받아 출구를 찾는 미로탐색 주 함수\n",
    "def solve_maze(maze, x, y):    # 미로탐색 주 함수\n",
    "    # 리스트의 리스트로 구성된 미로맵 maze의 크기\n",
    "    W, H = len(maze[0]), len(maze)    # 미로 맵의 크기\n",
    "    # 해 경로를 저장하기 위한 맵인 sol과 방문맵 mark를 생성하고 모두 0으로 초기화한다.\n",
    "    sol = [[0 for j in range(W)] for i in range(H)]    # 해 경로 맵\n",
    "    mark = [[0 for j in range(W)] for i in range(H)]    # 방문 맵\n",
    "\n",
    "    # 현재 위치 (x,y)에서 순환호출을 시작하고, 탐색을 성공하면 해 경로 맵을 화면에 출력한다.\n",
    "    if DFS_maze(maze, x, y, sol, mark) == False:    # 탐색 실패\n",
    "        print('출구를 찾을 수 없음')\n",
    "    else:    # 탐색 성공\n",
    "        for i in sol:    # 해 경로 맵 출력\n",
    "            print(i)\n",
    "\n",
    "# 상태공간트리를 탐색하는 DFS 구조의 순환호출 함수이다. 미로맵, 현재 위치, 현재 해 경로 맵, 방문 맵이 입력된다.\n",
    "def DFS_maze(maze, x, y, sol, mark):    # 순환호출 함수\n",
    "    W, H = len(maze[0]), len(maze)    # 미로 맵의 크기\n",
    "\n",
    "    # 현재 위치가 유효하지 않으면 백트래킹 한다.\n",
    "    if not isSafe(maze, x, y, mark):    # 유효하지 않은 위치이면\n",
    "        return False    # False를 반환(백트래킹)\n",
    "    \n",
    "    # 현재 위치가 유효하면, 방문했음을 mark에 표시하고, 해 경로 맵에 현재 위치를 추가한다.\n",
    "    mark[y][x] = 1    # (x,y)를 지나갔음\n",
    "    sol[y][x] = 1    # (x,y)가 path의 일부임\n",
    "    # 현재 위치가 출구이면 탐색을 종료한다.\n",
    "    if maze[y][x] == 2:    # 출구 도착\n",
    "        return True    # True를 반환(탐색종료)\n",
    "    \n",
    "    # 상태공간트리의 서브 트리를 순환적으로 탐색한다. 코드에서는 우-하-좌-상 순으로 탐색하지만, 순서와 상관없이 출구가 있다면 반드시 찾아진다.\n",
    "    if DFS_maze(maze, x+1, y, sol, mark) == True: return True\n",
    "    if DFS_maze(maze, x, y+1, sol, mark) == True: return True\n",
    "    if DFS_maze(maze, x-1, y, sol, mark) == True: return True\n",
    "    if DFS_maze(maze, x, y-1, sol, mark) == True: return True\n",
    "\n",
    "    # 현재 위치가 이제 해의 일부가 아니므로 sol에서 제거한다.\n",
    "    sol[y][x] = 0    # (x,y)는 이제 해의 일부가 아님 -> sol에서 제거\n",
    "    return False    # 어느 서브 트리에서도 해가 없으면 백트래킹 한다."
   ]
  }
 ],
 "metadata": {
  "language_info": {
   "name": "python"
  }
 },
 "nbformat": 4,
 "nbformat_minor": 2
}
